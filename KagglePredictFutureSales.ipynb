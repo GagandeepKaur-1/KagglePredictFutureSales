{
 "cells": [
  {
   "cell_type": "code",
   "execution_count": 2,
   "metadata": {},
   "outputs": [],
   "source": [
    "import numpy as np\n",
    "import pandas as pd\n",
    "import os"
   ]
  },
  {
   "cell_type": "code",
   "execution_count": 3,
   "metadata": {},
   "outputs": [
    {
     "data": {
      "text/plain": [
       "'C:\\\\Users\\\\gurme\\\\Downloads'"
      ]
     },
     "execution_count": 3,
     "metadata": {},
     "output_type": "execute_result"
    }
   ],
   "source": [
    "os.getcwd()"
   ]
  },
  {
   "cell_type": "code",
   "execution_count": 4,
   "metadata": {},
   "outputs": [],
   "source": [
    "os.chdir(\"C:\\\\Users\\\\gurme\\\\OneDrive\\\\Documents\\\\Documents\\\\Gagan\\\\DS\\\\DS\\\\Python\\\\Kaggle Comps\\\\PredictFutureSales\")"
   ]
  },
  {
   "cell_type": "code",
   "execution_count": 195,
   "metadata": {},
   "outputs": [],
   "source": [
    "train=pd.read_csv(\"sales_train.csv\")"
   ]
  },
  {
   "cell_type": "code",
   "execution_count": 196,
   "metadata": {},
   "outputs": [],
   "source": [
    "test=pd.read_csv(\"test.csv\")"
   ]
  },
  {
   "cell_type": "code",
   "execution_count": 100,
   "metadata": {},
   "outputs": [
    {
     "data": {
      "text/plain": [
       "<bound method NDFrame.head of                date  date_block_num  shop_id  item_id  item_price  \\\n",
       "0        02.01.2013               0       59    22154      999.00   \n",
       "1        03.01.2013               0       25     2552      899.00   \n",
       "2        05.01.2013               0       25     2552      899.00   \n",
       "3        06.01.2013               0       25     2554     1709.05   \n",
       "4        15.01.2013               0       25     2555     1099.00   \n",
       "...             ...             ...      ...      ...         ...   \n",
       "2935844  10.10.2015              33       25     7409      299.00   \n",
       "2935845  09.10.2015              33       25     7460      299.00   \n",
       "2935846  14.10.2015              33       25     7459      349.00   \n",
       "2935847  22.10.2015              33       25     7440      299.00   \n",
       "2935848  03.10.2015              33       25     7460      299.00   \n",
       "\n",
       "         item_cnt_day  \n",
       "0                 1.0  \n",
       "1                 1.0  \n",
       "2                -1.0  \n",
       "3                 1.0  \n",
       "4                 1.0  \n",
       "...               ...  \n",
       "2935844           1.0  \n",
       "2935845           1.0  \n",
       "2935846           1.0  \n",
       "2935847           1.0  \n",
       "2935848           1.0  \n",
       "\n",
       "[2935849 rows x 6 columns]>"
      ]
     },
     "execution_count": 100,
     "metadata": {},
     "output_type": "execute_result"
    }
   ],
   "source": [
    "train.head\n"
   ]
  },
  {
   "cell_type": "code",
   "execution_count": 197,
   "metadata": {},
   "outputs": [
    {
     "data": {
      "text/plain": [
       "Index(['date', 'date_block_num', 'shop_id', 'item_id', 'item_price',\n",
       "       'item_cnt_day'],\n",
       "      dtype='object')"
      ]
     },
     "execution_count": 197,
     "metadata": {},
     "output_type": "execute_result"
    }
   ],
   "source": [
    "train.columns"
   ]
  },
  {
   "cell_type": "code",
   "execution_count": 198,
   "metadata": {},
   "outputs": [],
   "source": [
    "median = train[(train.shop_id==32)&(train.item_id==2973)&(train.date_block_num==4)&(train.item_price>0)].item_price.median()\n",
    "train.loc[train.item_price<0, 'item_price'] = median"
   ]
  },
  {
   "cell_type": "code",
   "execution_count": 199,
   "metadata": {},
   "outputs": [],
   "source": [
    "train[\"Sales_Amt\"]=train[\"item_price\"]*train[\"item_cnt_day\"]"
   ]
  },
  {
   "cell_type": "code",
   "execution_count": 200,
   "metadata": {},
   "outputs": [
    {
     "data": {
      "text/plain": [
       "Index(['date', 'date_block_num', 'shop_id', 'item_id', 'item_price',\n",
       "       'item_cnt_day', 'Sales_Amt'],\n",
       "      dtype='object')"
      ]
     },
     "execution_count": 200,
     "metadata": {},
     "output_type": "execute_result"
    }
   ],
   "source": [
    "train.columns"
   ]
  },
  {
   "cell_type": "code",
   "execution_count": 201,
   "metadata": {},
   "outputs": [
    {
     "data": {
      "text/plain": [
       "Index(['ID', 'shop_id', 'item_id'], dtype='object')"
      ]
     },
     "execution_count": 201,
     "metadata": {},
     "output_type": "execute_result"
    }
   ],
   "source": [
    "test.columns"
   ]
  },
  {
   "cell_type": "code",
   "execution_count": 41,
   "metadata": {},
   "outputs": [],
   "source": []
  },
  {
   "cell_type": "code",
   "execution_count": 202,
   "metadata": {},
   "outputs": [
    {
     "data": {
      "text/plain": [
       "(363, 5100, 214200)"
      ]
     },
     "execution_count": 202,
     "metadata": {},
     "output_type": "execute_result"
    }
   ],
   "source": [
    "len(list(set(test.item_id) - set(test.item_id).intersection(set(train.item_id)))), len(list(set(test.item_id))), len(test)"
   ]
  },
  {
   "cell_type": "code",
   "execution_count": 203,
   "metadata": {},
   "outputs": [
    {
     "data": {
      "text/plain": [
       "(0, 42, 214200)"
      ]
     },
     "execution_count": 203,
     "metadata": {},
     "output_type": "execute_result"
    }
   ],
   "source": [
    "len(list(set(test.shop_id) - set(test.shop_id).intersection(set(train.shop_id)))), len(list(set(test.shop_id))), len(test)"
   ]
  },
  {
   "cell_type": "code",
   "execution_count": 204,
   "metadata": {},
   "outputs": [
    {
     "data": {
      "text/plain": [
       "<bound method NDFrame.head of 0           999.00\n",
       "1           899.00\n",
       "2          -899.00\n",
       "3          1709.05\n",
       "4          1099.00\n",
       "            ...   \n",
       "2935844     299.00\n",
       "2935845     299.00\n",
       "2935846     349.00\n",
       "2935847     299.00\n",
       "2935848     299.00\n",
       "Name: Sales_Amt, Length: 2935849, dtype: float64>"
      ]
     },
     "execution_count": 204,
     "metadata": {},
     "output_type": "execute_result"
    }
   ],
   "source": [
    "train[\"Sales_Amt\"].head"
   ]
  },
  {
   "cell_type": "code",
   "execution_count": 205,
   "metadata": {},
   "outputs": [
    {
     "data": {
      "text/plain": [
       "Index(['date', 'date_block_num', 'shop_id', 'item_id', 'item_price',\n",
       "       'item_cnt_day', 'Sales_Amt'],\n",
       "      dtype='object')"
      ]
     },
     "execution_count": 205,
     "metadata": {},
     "output_type": "execute_result"
    }
   ],
   "source": [
    "train.columns"
   ]
  },
  {
   "cell_type": "code",
   "execution_count": 206,
   "metadata": {},
   "outputs": [],
   "source": [
    "group=train.groupby([\"shop_id\",'item_id']).agg({'item_cnt_day': ['sum']})"
   ]
  },
  {
   "cell_type": "code",
   "execution_count": 207,
   "metadata": {},
   "outputs": [],
   "source": [
    "group1=train.groupby([\"shop_id\",'item_id']).agg(\"Sales_Amt\")"
   ]
  },
  {
   "cell_type": "code",
   "execution_count": 208,
   "metadata": {},
   "outputs": [
    {
     "data": {
      "text/plain": [
       "0           999.00\n",
       "1           899.00\n",
       "2          -899.00\n",
       "3          1709.05\n",
       "4          1099.00\n",
       "            ...   \n",
       "2935840     299.00\n",
       "2935841     349.00\n",
       "2935843     299.00\n",
       "2935844     299.00\n",
       "2935847     299.00\n",
       "Name: Sales_Amt, Length: 1764918, dtype: float64"
      ]
     },
     "execution_count": 208,
     "metadata": {},
     "output_type": "execute_result"
    }
   ],
   "source": [
    "group1.head(10)"
   ]
  },
  {
   "cell_type": "code",
   "execution_count": 209,
   "metadata": {},
   "outputs": [
    {
     "data": {
      "text/plain": [
       "424124"
      ]
     },
     "execution_count": 209,
     "metadata": {},
     "output_type": "execute_result"
    }
   ],
   "source": [
    "len(group1)"
   ]
  },
  {
   "cell_type": "code",
   "execution_count": 210,
   "metadata": {},
   "outputs": [],
   "source": [
    "group1.columns = ['Sales_Amt']\n",
    "group.reset_index(inplace=True)"
   ]
  },
  {
   "cell_type": "code",
   "execution_count": 211,
   "metadata": {},
   "outputs": [
    {
     "data": {
      "text/plain": [
       "0           999.00\n",
       "1           899.00\n",
       "2          -899.00\n",
       "3          1709.05\n",
       "4          1099.00\n",
       "            ...   \n",
       "2935839     399.00\n",
       "2935840     299.00\n",
       "2935843     299.00\n",
       "2935844     299.00\n",
       "2935847     299.00\n",
       "Name: Sales_Amt, Length: 1274212, dtype: float64"
      ]
     },
     "execution_count": 211,
     "metadata": {},
     "output_type": "execute_result"
    }
   ],
   "source": [
    "group1.head()"
   ]
  },
  {
   "cell_type": "markdown",
   "metadata": {},
   "source": [
    "group = train.groupby(['date_block_num','shop_id','item_id']).agg({'item_cnt_day': ['sum']})\n",
    "group.columns = ['item_cnt_month']\n",
    "group.reset_index(inplace=True)"
   ]
  },
  {
   "cell_type": "code",
   "execution_count": 212,
   "metadata": {},
   "outputs": [],
   "source": [
    "train_y=train[\"Sales_Amt\"]"
   ]
  },
  {
   "cell_type": "code",
   "execution_count": 213,
   "metadata": {},
   "outputs": [],
   "source": [
    "train.drop([\"Sales_Amt\"],1,inplace=True)"
   ]
  },
  {
   "cell_type": "code",
   "execution_count": 214,
   "metadata": {},
   "outputs": [
    {
     "data": {
      "text/plain": [
       "Index(['ID', 'shop_id', 'item_id'], dtype='object')"
      ]
     },
     "execution_count": 214,
     "metadata": {},
     "output_type": "execute_result"
    }
   ],
   "source": [
    "test.columns"
   ]
  },
  {
   "cell_type": "code",
   "execution_count": 215,
   "metadata": {},
   "outputs": [
    {
     "data": {
      "text/plain": [
       "Index(['date', 'date_block_num', 'shop_id', 'item_id', 'item_price',\n",
       "       'item_cnt_day'],\n",
       "      dtype='object')"
      ]
     },
     "execution_count": 215,
     "metadata": {},
     "output_type": "execute_result"
    }
   ],
   "source": [
    "train.columns"
   ]
  },
  {
   "cell_type": "code",
   "execution_count": 216,
   "metadata": {},
   "outputs": [],
   "source": [
    "train1=train.drop([\"date\", 'date_block_num','item_price','item_cnt_day'],1)"
   ]
  },
  {
   "cell_type": "code",
   "execution_count": 217,
   "metadata": {},
   "outputs": [],
   "source": [
    "from sklearn.linear_model import LinearRegression"
   ]
  },
  {
   "cell_type": "code",
   "execution_count": 218,
   "metadata": {},
   "outputs": [],
   "source": [
    "lr=LinearRegression()"
   ]
  },
  {
   "cell_type": "code",
   "execution_count": 219,
   "metadata": {},
   "outputs": [
    {
     "data": {
      "text/plain": [
       "Index(['date', 'date_block_num', 'shop_id', 'item_id', 'item_price',\n",
       "       'item_cnt_day'],\n",
       "      dtype='object')"
      ]
     },
     "execution_count": 219,
     "metadata": {},
     "output_type": "execute_result"
    }
   ],
   "source": [
    "train.columns"
   ]
  },
  {
   "cell_type": "code",
   "execution_count": 220,
   "metadata": {},
   "outputs": [
    {
     "data": {
      "text/plain": [
       "(2935849, 2)"
      ]
     },
     "execution_count": 220,
     "metadata": {},
     "output_type": "execute_result"
    }
   ],
   "source": [
    "train1.columns\n",
    "train1.shape"
   ]
  },
  {
   "cell_type": "code",
   "execution_count": 221,
   "metadata": {},
   "outputs": [],
   "source": [
    "test1.columns\n",
    "test1=test.drop([\"ID\"],1)"
   ]
  },
  {
   "cell_type": "code",
   "execution_count": 222,
   "metadata": {},
   "outputs": [
    {
     "data": {
      "text/plain": [
       "(214200, 2)"
      ]
     },
     "execution_count": 222,
     "metadata": {},
     "output_type": "execute_result"
    }
   ],
   "source": [
    "test1.columns\n",
    "test1.shape"
   ]
  },
  {
   "cell_type": "code",
   "execution_count": 223,
   "metadata": {},
   "outputs": [
    {
     "data": {
      "text/plain": [
       "LinearRegression()"
      ]
     },
     "execution_count": 223,
     "metadata": {},
     "output_type": "execute_result"
    }
   ],
   "source": [
    "lr.fit(train1,train_y)"
   ]
  },
  {
   "cell_type": "code",
   "execution_count": 224,
   "metadata": {},
   "outputs": [],
   "source": [
    "predictions=lr.predict(test1)"
   ]
  },
  {
   "cell_type": "code",
   "execution_count": 351,
   "metadata": {},
   "outputs": [],
   "source": [
    "predictions1=pd.DataFrame(predictions)"
   ]
  },
  {
   "cell_type": "code",
   "execution_count": 352,
   "metadata": {},
   "outputs": [],
   "source": [
    "predictions1.to_csv(\"PredictFutureSales.csv\")"
   ]
  },
  {
   "cell_type": "code",
   "execution_count": 225,
   "metadata": {},
   "outputs": [],
   "source": [
    "train_date=pd.read_csv(\"sales_train.csv\")"
   ]
  },
  {
   "cell_type": "code",
   "execution_count": 226,
   "metadata": {},
   "outputs": [],
   "source": [
    "test_date=pd.read_csv(\"test.csv\")"
   ]
  },
  {
   "cell_type": "code",
   "execution_count": 227,
   "metadata": {},
   "outputs": [
    {
     "data": {
      "text/plain": [
       "Index(['date', 'date_block_num', 'shop_id', 'item_id', 'item_price',\n",
       "       'item_cnt_day'],\n",
       "      dtype='object')"
      ]
     },
     "execution_count": 227,
     "metadata": {},
     "output_type": "execute_result"
    }
   ],
   "source": [
    "train_date.columns"
   ]
  },
  {
   "cell_type": "code",
   "execution_count": 228,
   "metadata": {},
   "outputs": [],
   "source": [
    "train_date1=train_date.drop(['date_block_num','item_price','item_cnt_day'],1)"
   ]
  },
  {
   "cell_type": "code",
   "execution_count": 229,
   "metadata": {},
   "outputs": [
    {
     "data": {
      "text/plain": [
       "Index(['date', 'shop_id', 'item_id'], dtype='object')"
      ]
     },
     "execution_count": 229,
     "metadata": {},
     "output_type": "execute_result"
    }
   ],
   "source": [
    "train_date1.columns"
   ]
  },
  {
   "cell_type": "code",
   "execution_count": 230,
   "metadata": {},
   "outputs": [
    {
     "data": {
      "text/html": [
       "<div>\n",
       "<style scoped>\n",
       "    .dataframe tbody tr th:only-of-type {\n",
       "        vertical-align: middle;\n",
       "    }\n",
       "\n",
       "    .dataframe tbody tr th {\n",
       "        vertical-align: top;\n",
       "    }\n",
       "\n",
       "    .dataframe thead th {\n",
       "        text-align: right;\n",
       "    }\n",
       "</style>\n",
       "<table border=\"1\" class=\"dataframe\">\n",
       "  <thead>\n",
       "    <tr style=\"text-align: right;\">\n",
       "      <th></th>\n",
       "      <th>date</th>\n",
       "      <th>shop_id</th>\n",
       "      <th>item_id</th>\n",
       "    </tr>\n",
       "  </thead>\n",
       "  <tbody>\n",
       "    <tr>\n",
       "      <th>0</th>\n",
       "      <td>02.01.2013</td>\n",
       "      <td>59</td>\n",
       "      <td>22154</td>\n",
       "    </tr>\n",
       "    <tr>\n",
       "      <th>1</th>\n",
       "      <td>03.01.2013</td>\n",
       "      <td>25</td>\n",
       "      <td>2552</td>\n",
       "    </tr>\n",
       "    <tr>\n",
       "      <th>2</th>\n",
       "      <td>05.01.2013</td>\n",
       "      <td>25</td>\n",
       "      <td>2552</td>\n",
       "    </tr>\n",
       "    <tr>\n",
       "      <th>3</th>\n",
       "      <td>06.01.2013</td>\n",
       "      <td>25</td>\n",
       "      <td>2554</td>\n",
       "    </tr>\n",
       "    <tr>\n",
       "      <th>4</th>\n",
       "      <td>15.01.2013</td>\n",
       "      <td>25</td>\n",
       "      <td>2555</td>\n",
       "    </tr>\n",
       "  </tbody>\n",
       "</table>\n",
       "</div>"
      ],
      "text/plain": [
       "         date  shop_id  item_id\n",
       "0  02.01.2013       59    22154\n",
       "1  03.01.2013       25     2552\n",
       "2  05.01.2013       25     2552\n",
       "3  06.01.2013       25     2554\n",
       "4  15.01.2013       25     2555"
      ]
     },
     "execution_count": 230,
     "metadata": {},
     "output_type": "execute_result"
    }
   ],
   "source": [
    "train_date1.head()"
   ]
  },
  {
   "cell_type": "code",
   "execution_count": 231,
   "metadata": {},
   "outputs": [],
   "source": [
    "b = train_date1.date"
   ]
  },
  {
   "cell_type": "code",
   "execution_count": 232,
   "metadata": {},
   "outputs": [],
   "source": [
    "b.columns=[\"date\"]"
   ]
  },
  {
   "cell_type": "code",
   "execution_count": 233,
   "metadata": {},
   "outputs": [
    {
     "data": {
      "text/plain": [
       "0    02.01.2013\n",
       "1    03.01.2013\n",
       "2    05.01.2013\n",
       "3    06.01.2013\n",
       "4    15.01.2013\n",
       "Name: date, dtype: object"
      ]
     },
     "execution_count": 233,
     "metadata": {},
     "output_type": "execute_result"
    }
   ],
   "source": [
    "b.head()"
   ]
  },
  {
   "cell_type": "code",
   "execution_count": 246,
   "metadata": {},
   "outputs": [],
   "source": [
    "b = pd.to_datetime(b)"
   ]
  },
  {
   "cell_type": "code",
   "execution_count": 247,
   "metadata": {},
   "outputs": [
    {
     "data": {
      "text/plain": [
       "dtype('<M8[ns]')"
      ]
     },
     "execution_count": 247,
     "metadata": {},
     "output_type": "execute_result"
    }
   ],
   "source": [
    "b.dtypes"
   ]
  },
  {
   "cell_type": "code",
   "execution_count": 250,
   "metadata": {},
   "outputs": [],
   "source": [
    "m= b.dt.to_period(\"M\")"
   ]
  },
  {
   "cell_type": "code",
   "execution_count": 262,
   "metadata": {},
   "outputs": [
    {
     "data": {
      "text/plain": [
       "(2935849, 2935849, 2935849)"
      ]
     },
     "execution_count": 262,
     "metadata": {},
     "output_type": "execute_result"
    }
   ],
   "source": [
    "len(b),len(m),len(train)"
   ]
  },
  {
   "cell_type": "code",
   "execution_count": 265,
   "metadata": {},
   "outputs": [
    {
     "data": {
      "text/plain": [
       "Index(['date', 'shop_id', 'item_id'], dtype='object')"
      ]
     },
     "execution_count": 265,
     "metadata": {},
     "output_type": "execute_result"
    }
   ],
   "source": [
    "train_date1.columns"
   ]
  },
  {
   "cell_type": "code",
   "execution_count": 267,
   "metadata": {},
   "outputs": [
    {
     "data": {
      "text/plain": [
       "period[M]"
      ]
     },
     "execution_count": 267,
     "metadata": {},
     "output_type": "execute_result"
    }
   ],
   "source": [
    "m.dtypes"
   ]
  },
  {
   "cell_type": "code",
   "execution_count": 305,
   "metadata": {},
   "outputs": [],
   "source": [
    "m1=pd.DataFrame(m)"
   ]
  },
  {
   "cell_type": "code",
   "execution_count": 310,
   "metadata": {},
   "outputs": [],
   "source": [
    "train_month1=pd.concat([train_month,m1],1)\n",
    "train_month1.columns\n",
    "train_month1.head()\n",
    "train_month1.columns=[\"date\",\"shop_id\",\"item_id\",\"item_price\",\"item_cnt_day\",\"Sales_Amt\",\"Month\"]"
   ]
  },
  {
   "cell_type": "code",
   "execution_count": 311,
   "metadata": {},
   "outputs": [
    {
     "data": {
      "text/html": [
       "<div>\n",
       "<style scoped>\n",
       "    .dataframe tbody tr th:only-of-type {\n",
       "        vertical-align: middle;\n",
       "    }\n",
       "\n",
       "    .dataframe tbody tr th {\n",
       "        vertical-align: top;\n",
       "    }\n",
       "\n",
       "    .dataframe thead th {\n",
       "        text-align: right;\n",
       "    }\n",
       "</style>\n",
       "<table border=\"1\" class=\"dataframe\">\n",
       "  <thead>\n",
       "    <tr style=\"text-align: right;\">\n",
       "      <th></th>\n",
       "      <th>date</th>\n",
       "      <th>shop_id</th>\n",
       "      <th>item_id</th>\n",
       "      <th>item_price</th>\n",
       "      <th>item_cnt_day</th>\n",
       "      <th>Sales_Amt</th>\n",
       "      <th>Month</th>\n",
       "    </tr>\n",
       "  </thead>\n",
       "  <tbody>\n",
       "    <tr>\n",
       "      <th>0</th>\n",
       "      <td>02.01.2013</td>\n",
       "      <td>59</td>\n",
       "      <td>22154</td>\n",
       "      <td>999.00</td>\n",
       "      <td>1.0</td>\n",
       "      <td>999.00</td>\n",
       "      <td>2013-02</td>\n",
       "    </tr>\n",
       "    <tr>\n",
       "      <th>1</th>\n",
       "      <td>03.01.2013</td>\n",
       "      <td>25</td>\n",
       "      <td>2552</td>\n",
       "      <td>899.00</td>\n",
       "      <td>1.0</td>\n",
       "      <td>899.00</td>\n",
       "      <td>2013-03</td>\n",
       "    </tr>\n",
       "    <tr>\n",
       "      <th>2</th>\n",
       "      <td>05.01.2013</td>\n",
       "      <td>25</td>\n",
       "      <td>2552</td>\n",
       "      <td>899.00</td>\n",
       "      <td>-1.0</td>\n",
       "      <td>-899.00</td>\n",
       "      <td>2013-05</td>\n",
       "    </tr>\n",
       "    <tr>\n",
       "      <th>3</th>\n",
       "      <td>06.01.2013</td>\n",
       "      <td>25</td>\n",
       "      <td>2554</td>\n",
       "      <td>1709.05</td>\n",
       "      <td>1.0</td>\n",
       "      <td>1709.05</td>\n",
       "      <td>2013-06</td>\n",
       "    </tr>\n",
       "    <tr>\n",
       "      <th>4</th>\n",
       "      <td>15.01.2013</td>\n",
       "      <td>25</td>\n",
       "      <td>2555</td>\n",
       "      <td>1099.00</td>\n",
       "      <td>1.0</td>\n",
       "      <td>1099.00</td>\n",
       "      <td>2013-01</td>\n",
       "    </tr>\n",
       "    <tr>\n",
       "      <th>...</th>\n",
       "      <td>...</td>\n",
       "      <td>...</td>\n",
       "      <td>...</td>\n",
       "      <td>...</td>\n",
       "      <td>...</td>\n",
       "      <td>...</td>\n",
       "      <td>...</td>\n",
       "    </tr>\n",
       "    <tr>\n",
       "      <th>2935844</th>\n",
       "      <td>10.10.2015</td>\n",
       "      <td>25</td>\n",
       "      <td>7409</td>\n",
       "      <td>299.00</td>\n",
       "      <td>1.0</td>\n",
       "      <td>299.00</td>\n",
       "      <td>2015-10</td>\n",
       "    </tr>\n",
       "    <tr>\n",
       "      <th>2935845</th>\n",
       "      <td>09.10.2015</td>\n",
       "      <td>25</td>\n",
       "      <td>7460</td>\n",
       "      <td>299.00</td>\n",
       "      <td>1.0</td>\n",
       "      <td>299.00</td>\n",
       "      <td>2015-09</td>\n",
       "    </tr>\n",
       "    <tr>\n",
       "      <th>2935846</th>\n",
       "      <td>14.10.2015</td>\n",
       "      <td>25</td>\n",
       "      <td>7459</td>\n",
       "      <td>349.00</td>\n",
       "      <td>1.0</td>\n",
       "      <td>349.00</td>\n",
       "      <td>2015-10</td>\n",
       "    </tr>\n",
       "    <tr>\n",
       "      <th>2935847</th>\n",
       "      <td>22.10.2015</td>\n",
       "      <td>25</td>\n",
       "      <td>7440</td>\n",
       "      <td>299.00</td>\n",
       "      <td>1.0</td>\n",
       "      <td>299.00</td>\n",
       "      <td>2015-10</td>\n",
       "    </tr>\n",
       "    <tr>\n",
       "      <th>2935848</th>\n",
       "      <td>03.10.2015</td>\n",
       "      <td>25</td>\n",
       "      <td>7460</td>\n",
       "      <td>299.00</td>\n",
       "      <td>1.0</td>\n",
       "      <td>299.00</td>\n",
       "      <td>2015-03</td>\n",
       "    </tr>\n",
       "  </tbody>\n",
       "</table>\n",
       "<p>2935849 rows × 7 columns</p>\n",
       "</div>"
      ],
      "text/plain": [
       "               date  shop_id  item_id  item_price  item_cnt_day  Sales_Amt  \\\n",
       "0        02.01.2013       59    22154      999.00           1.0     999.00   \n",
       "1        03.01.2013       25     2552      899.00           1.0     899.00   \n",
       "2        05.01.2013       25     2552      899.00          -1.0    -899.00   \n",
       "3        06.01.2013       25     2554     1709.05           1.0    1709.05   \n",
       "4        15.01.2013       25     2555     1099.00           1.0    1099.00   \n",
       "...             ...      ...      ...         ...           ...        ...   \n",
       "2935844  10.10.2015       25     7409      299.00           1.0     299.00   \n",
       "2935845  09.10.2015       25     7460      299.00           1.0     299.00   \n",
       "2935846  14.10.2015       25     7459      349.00           1.0     349.00   \n",
       "2935847  22.10.2015       25     7440      299.00           1.0     299.00   \n",
       "2935848  03.10.2015       25     7460      299.00           1.0     299.00   \n",
       "\n",
       "           Month  \n",
       "0        2013-02  \n",
       "1        2013-03  \n",
       "2        2013-05  \n",
       "3        2013-06  \n",
       "4        2013-01  \n",
       "...          ...  \n",
       "2935844  2015-10  \n",
       "2935845  2015-09  \n",
       "2935846  2015-10  \n",
       "2935847  2015-10  \n",
       "2935848  2015-03  \n",
       "\n",
       "[2935849 rows x 7 columns]"
      ]
     },
     "execution_count": 311,
     "metadata": {},
     "output_type": "execute_result"
    }
   ],
   "source": [
    "train_month1"
   ]
  },
  {
   "cell_type": "code",
   "execution_count": 362,
   "metadata": {},
   "outputs": [
    {
     "data": {
      "text/html": [
       "<div>\n",
       "<style scoped>\n",
       "    .dataframe tbody tr th:only-of-type {\n",
       "        vertical-align: middle;\n",
       "    }\n",
       "\n",
       "    .dataframe tbody tr th {\n",
       "        vertical-align: top;\n",
       "    }\n",
       "\n",
       "    .dataframe thead th {\n",
       "        text-align: right;\n",
       "    }\n",
       "</style>\n",
       "<table border=\"1\" class=\"dataframe\">\n",
       "  <thead>\n",
       "    <tr style=\"text-align: right;\">\n",
       "      <th></th>\n",
       "      <th>Month</th>\n",
       "      <th>shop_id</th>\n",
       "      <th>item_id</th>\n",
       "      <th>item_price</th>\n",
       "      <th>item_cnt_day</th>\n",
       "      <th>Sales_Amt</th>\n",
       "    </tr>\n",
       "  </thead>\n",
       "  <tbody>\n",
       "    <tr>\n",
       "      <th>0</th>\n",
       "      <td>2013-01</td>\n",
       "      <td>3095780</td>\n",
       "      <td>1038682227</td>\n",
       "      <td>7.060131e+07</td>\n",
       "      <td>116950.0</td>\n",
       "      <td>8.135506e+07</td>\n",
       "    </tr>\n",
       "    <tr>\n",
       "      <th>1</th>\n",
       "      <td>2013-02</td>\n",
       "      <td>3382266</td>\n",
       "      <td>1102025872</td>\n",
       "      <td>7.827604e+07</td>\n",
       "      <td>133607.0</td>\n",
       "      <td>9.479086e+07</td>\n",
       "    </tr>\n",
       "    <tr>\n",
       "      <th>2</th>\n",
       "      <td>2013-03</td>\n",
       "      <td>3787900</td>\n",
       "      <td>1172302372</td>\n",
       "      <td>8.109691e+07</td>\n",
       "      <td>140586.0</td>\n",
       "      <td>1.006548e+08</td>\n",
       "    </tr>\n",
       "    <tr>\n",
       "      <th>3</th>\n",
       "      <td>2013-04</td>\n",
       "      <td>3181701</td>\n",
       "      <td>987402995</td>\n",
       "      <td>6.406593e+07</td>\n",
       "      <td>112185.0</td>\n",
       "      <td>7.524793e+07</td>\n",
       "    </tr>\n",
       "    <tr>\n",
       "      <th>4</th>\n",
       "      <td>2013-05</td>\n",
       "      <td>3085008</td>\n",
       "      <td>960114246</td>\n",
       "      <td>6.355117e+07</td>\n",
       "      <td>116808.0</td>\n",
       "      <td>8.020317e+07</td>\n",
       "    </tr>\n",
       "    <tr>\n",
       "      <th>5</th>\n",
       "      <td>2013-06</td>\n",
       "      <td>3313588</td>\n",
       "      <td>1045019496</td>\n",
       "      <td>6.865706e+07</td>\n",
       "      <td>127421.0</td>\n",
       "      <td>9.117392e+07</td>\n",
       "    </tr>\n",
       "    <tr>\n",
       "      <th>6</th>\n",
       "      <td>2013-07</td>\n",
       "      <td>3624818</td>\n",
       "      <td>1140622173</td>\n",
       "      <td>7.028078e+07</td>\n",
       "      <td>128686.0</td>\n",
       "      <td>8.144784e+07</td>\n",
       "    </tr>\n",
       "    <tr>\n",
       "      <th>7</th>\n",
       "      <td>2013-08</td>\n",
       "      <td>3630566</td>\n",
       "      <td>1105381010</td>\n",
       "      <td>7.228013e+07</td>\n",
       "      <td>131676.0</td>\n",
       "      <td>8.424181e+07</td>\n",
       "    </tr>\n",
       "    <tr>\n",
       "      <th>8</th>\n",
       "      <td>2013-09</td>\n",
       "      <td>3279509</td>\n",
       "      <td>1003143161</td>\n",
       "      <td>7.519246e+07</td>\n",
       "      <td>133110.0</td>\n",
       "      <td>1.192925e+08</td>\n",
       "    </tr>\n",
       "    <tr>\n",
       "      <th>9</th>\n",
       "      <td>2013-10</td>\n",
       "      <td>3163738</td>\n",
       "      <td>977837110</td>\n",
       "      <td>7.151172e+07</td>\n",
       "      <td>119723.0</td>\n",
       "      <td>9.176544e+07</td>\n",
       "    </tr>\n",
       "    <tr>\n",
       "      <th>10</th>\n",
       "      <td>2013-11</td>\n",
       "      <td>3022585</td>\n",
       "      <td>929693899</td>\n",
       "      <td>7.199677e+07</td>\n",
       "      <td>117422.0</td>\n",
       "      <td>1.244601e+08</td>\n",
       "    </tr>\n",
       "    <tr>\n",
       "      <th>11</th>\n",
       "      <td>2013-12</td>\n",
       "      <td>4774743</td>\n",
       "      <td>1443971430</td>\n",
       "      <td>1.337510e+08</td>\n",
       "      <td>184559.0</td>\n",
       "      <td>1.928913e+08</td>\n",
       "    </tr>\n",
       "    <tr>\n",
       "      <th>12</th>\n",
       "      <td>2014-01</td>\n",
       "      <td>2863591</td>\n",
       "      <td>865350138</td>\n",
       "      <td>7.434636e+07</td>\n",
       "      <td>101419.0</td>\n",
       "      <td>8.586977e+07</td>\n",
       "    </tr>\n",
       "    <tr>\n",
       "      <th>13</th>\n",
       "      <td>2014-02</td>\n",
       "      <td>2984331</td>\n",
       "      <td>881541336</td>\n",
       "      <td>7.998067e+07</td>\n",
       "      <td>110954.0</td>\n",
       "      <td>1.021821e+08</td>\n",
       "    </tr>\n",
       "    <tr>\n",
       "      <th>14</th>\n",
       "      <td>2014-03</td>\n",
       "      <td>2940719</td>\n",
       "      <td>883636319</td>\n",
       "      <td>8.338979e+07</td>\n",
       "      <td>111778.0</td>\n",
       "      <td>1.113399e+08</td>\n",
       "    </tr>\n",
       "    <tr>\n",
       "      <th>15</th>\n",
       "      <td>2014-04</td>\n",
       "      <td>2688524</td>\n",
       "      <td>829373026</td>\n",
       "      <td>7.156313e+07</td>\n",
       "      <td>103499.0</td>\n",
       "      <td>9.212764e+07</td>\n",
       "    </tr>\n",
       "    <tr>\n",
       "      <th>16</th>\n",
       "      <td>2014-05</td>\n",
       "      <td>2792314</td>\n",
       "      <td>847393204</td>\n",
       "      <td>7.657228e+07</td>\n",
       "      <td>108501.0</td>\n",
       "      <td>1.095646e+08</td>\n",
       "    </tr>\n",
       "    <tr>\n",
       "      <th>17</th>\n",
       "      <td>2014-06</td>\n",
       "      <td>2819522</td>\n",
       "      <td>849934625</td>\n",
       "      <td>7.594709e+07</td>\n",
       "      <td>100143.0</td>\n",
       "      <td>9.009519e+07</td>\n",
       "    </tr>\n",
       "    <tr>\n",
       "      <th>18</th>\n",
       "      <td>2014-07</td>\n",
       "      <td>2752862</td>\n",
       "      <td>833142535</td>\n",
       "      <td>7.231337e+07</td>\n",
       "      <td>96758.0</td>\n",
       "      <td>8.654805e+07</td>\n",
       "    </tr>\n",
       "    <tr>\n",
       "      <th>19</th>\n",
       "      <td>2014-08</td>\n",
       "      <td>3109683</td>\n",
       "      <td>920295662</td>\n",
       "      <td>8.304104e+07</td>\n",
       "      <td>110037.0</td>\n",
       "      <td>9.935747e+07</td>\n",
       "    </tr>\n",
       "    <tr>\n",
       "      <th>20</th>\n",
       "      <td>2014-09</td>\n",
       "      <td>2622092</td>\n",
       "      <td>780681576</td>\n",
       "      <td>8.169178e+07</td>\n",
       "      <td>101819.0</td>\n",
       "      <td>1.162829e+08</td>\n",
       "    </tr>\n",
       "    <tr>\n",
       "      <th>21</th>\n",
       "      <td>2014-10</td>\n",
       "      <td>2516358</td>\n",
       "      <td>763212498</td>\n",
       "      <td>7.536150e+07</td>\n",
       "      <td>89813.0</td>\n",
       "      <td>8.827177e+07</td>\n",
       "    </tr>\n",
       "    <tr>\n",
       "      <th>22</th>\n",
       "      <td>2014-11</td>\n",
       "      <td>2861609</td>\n",
       "      <td>859451300</td>\n",
       "      <td>1.007588e+08</td>\n",
       "      <td>116223.0</td>\n",
       "      <td>1.471961e+08</td>\n",
       "    </tr>\n",
       "    <tr>\n",
       "      <th>23</th>\n",
       "      <td>2014-12</td>\n",
       "      <td>4440533</td>\n",
       "      <td>1344153285</td>\n",
       "      <td>1.685883e+08</td>\n",
       "      <td>169945.0</td>\n",
       "      <td>2.179430e+08</td>\n",
       "    </tr>\n",
       "    <tr>\n",
       "      <th>24</th>\n",
       "      <td>2015-01</td>\n",
       "      <td>2144328</td>\n",
       "      <td>669394141</td>\n",
       "      <td>7.051091e+07</td>\n",
       "      <td>78235.0</td>\n",
       "      <td>8.166410e+07</td>\n",
       "    </tr>\n",
       "    <tr>\n",
       "      <th>25</th>\n",
       "      <td>2015-02</td>\n",
       "      <td>2243539</td>\n",
       "      <td>700358677</td>\n",
       "      <td>7.031400e+07</td>\n",
       "      <td>80989.0</td>\n",
       "      <td>8.650145e+07</td>\n",
       "    </tr>\n",
       "    <tr>\n",
       "      <th>26</th>\n",
       "      <td>2015-03</td>\n",
       "      <td>2113341</td>\n",
       "      <td>662335607</td>\n",
       "      <td>6.802008e+07</td>\n",
       "      <td>76119.0</td>\n",
       "      <td>8.574415e+07</td>\n",
       "    </tr>\n",
       "    <tr>\n",
       "      <th>27</th>\n",
       "      <td>2015-04</td>\n",
       "      <td>1795890</td>\n",
       "      <td>579822077</td>\n",
       "      <td>5.971309e+07</td>\n",
       "      <td>78601.0</td>\n",
       "      <td>9.302452e+07</td>\n",
       "    </tr>\n",
       "    <tr>\n",
       "      <th>28</th>\n",
       "      <td>2015-05</td>\n",
       "      <td>1812637</td>\n",
       "      <td>574021931</td>\n",
       "      <td>6.091986e+07</td>\n",
       "      <td>73815.0</td>\n",
       "      <td>9.178172e+07</td>\n",
       "    </tr>\n",
       "    <tr>\n",
       "      <th>29</th>\n",
       "      <td>2015-06</td>\n",
       "      <td>1758457</td>\n",
       "      <td>558181542</td>\n",
       "      <td>5.480204e+07</td>\n",
       "      <td>63703.0</td>\n",
       "      <td>6.540496e+07</td>\n",
       "    </tr>\n",
       "    <tr>\n",
       "      <th>30</th>\n",
       "      <td>2015-07</td>\n",
       "      <td>1845342</td>\n",
       "      <td>595229440</td>\n",
       "      <td>5.396777e+07</td>\n",
       "      <td>64967.0</td>\n",
       "      <td>6.096865e+07</td>\n",
       "    </tr>\n",
       "    <tr>\n",
       "      <th>31</th>\n",
       "      <td>2015-08</td>\n",
       "      <td>1939235</td>\n",
       "      <td>590687567</td>\n",
       "      <td>5.759089e+07</td>\n",
       "      <td>69375.0</td>\n",
       "      <td>6.729293e+07</td>\n",
       "    </tr>\n",
       "    <tr>\n",
       "      <th>32</th>\n",
       "      <td>2015-09</td>\n",
       "      <td>1531314</td>\n",
       "      <td>485848640</td>\n",
       "      <td>5.461837e+07</td>\n",
       "      <td>65933.0</td>\n",
       "      <td>8.266919e+07</td>\n",
       "    </tr>\n",
       "    <tr>\n",
       "      <th>33</th>\n",
       "      <td>2015-10</td>\n",
       "      <td>1682442</td>\n",
       "      <td>548881181</td>\n",
       "      <td>5.993286e+07</td>\n",
       "      <td>66373.0</td>\n",
       "      <td>7.376688e+07</td>\n",
       "    </tr>\n",
       "    <tr>\n",
       "      <th>34</th>\n",
       "      <td>2015-11</td>\n",
       "      <td>687344</td>\n",
       "      <td>216663481</td>\n",
       "      <td>2.194683e+07</td>\n",
       "      <td>24990.0</td>\n",
       "      <td>2.525733e+07</td>\n",
       "    </tr>\n",
       "    <tr>\n",
       "      <th>35</th>\n",
       "      <td>2015-12</td>\n",
       "      <td>599882</td>\n",
       "      <td>191733079</td>\n",
       "      <td>1.825844e+07</td>\n",
       "      <td>21484.0</td>\n",
       "      <td>2.054725e+07</td>\n",
       "    </tr>\n",
       "  </tbody>\n",
       "</table>\n",
       "</div>"
      ],
      "text/plain": [
       "      Month  shop_id     item_id    item_price  item_cnt_day     Sales_Amt\n",
       "0   2013-01  3095780  1038682227  7.060131e+07      116950.0  8.135506e+07\n",
       "1   2013-02  3382266  1102025872  7.827604e+07      133607.0  9.479086e+07\n",
       "2   2013-03  3787900  1172302372  8.109691e+07      140586.0  1.006548e+08\n",
       "3   2013-04  3181701   987402995  6.406593e+07      112185.0  7.524793e+07\n",
       "4   2013-05  3085008   960114246  6.355117e+07      116808.0  8.020317e+07\n",
       "5   2013-06  3313588  1045019496  6.865706e+07      127421.0  9.117392e+07\n",
       "6   2013-07  3624818  1140622173  7.028078e+07      128686.0  8.144784e+07\n",
       "7   2013-08  3630566  1105381010  7.228013e+07      131676.0  8.424181e+07\n",
       "8   2013-09  3279509  1003143161  7.519246e+07      133110.0  1.192925e+08\n",
       "9   2013-10  3163738   977837110  7.151172e+07      119723.0  9.176544e+07\n",
       "10  2013-11  3022585   929693899  7.199677e+07      117422.0  1.244601e+08\n",
       "11  2013-12  4774743  1443971430  1.337510e+08      184559.0  1.928913e+08\n",
       "12  2014-01  2863591   865350138  7.434636e+07      101419.0  8.586977e+07\n",
       "13  2014-02  2984331   881541336  7.998067e+07      110954.0  1.021821e+08\n",
       "14  2014-03  2940719   883636319  8.338979e+07      111778.0  1.113399e+08\n",
       "15  2014-04  2688524   829373026  7.156313e+07      103499.0  9.212764e+07\n",
       "16  2014-05  2792314   847393204  7.657228e+07      108501.0  1.095646e+08\n",
       "17  2014-06  2819522   849934625  7.594709e+07      100143.0  9.009519e+07\n",
       "18  2014-07  2752862   833142535  7.231337e+07       96758.0  8.654805e+07\n",
       "19  2014-08  3109683   920295662  8.304104e+07      110037.0  9.935747e+07\n",
       "20  2014-09  2622092   780681576  8.169178e+07      101819.0  1.162829e+08\n",
       "21  2014-10  2516358   763212498  7.536150e+07       89813.0  8.827177e+07\n",
       "22  2014-11  2861609   859451300  1.007588e+08      116223.0  1.471961e+08\n",
       "23  2014-12  4440533  1344153285  1.685883e+08      169945.0  2.179430e+08\n",
       "24  2015-01  2144328   669394141  7.051091e+07       78235.0  8.166410e+07\n",
       "25  2015-02  2243539   700358677  7.031400e+07       80989.0  8.650145e+07\n",
       "26  2015-03  2113341   662335607  6.802008e+07       76119.0  8.574415e+07\n",
       "27  2015-04  1795890   579822077  5.971309e+07       78601.0  9.302452e+07\n",
       "28  2015-05  1812637   574021931  6.091986e+07       73815.0  9.178172e+07\n",
       "29  2015-06  1758457   558181542  5.480204e+07       63703.0  6.540496e+07\n",
       "30  2015-07  1845342   595229440  5.396777e+07       64967.0  6.096865e+07\n",
       "31  2015-08  1939235   590687567  5.759089e+07       69375.0  6.729293e+07\n",
       "32  2015-09  1531314   485848640  5.461837e+07       65933.0  8.266919e+07\n",
       "33  2015-10  1682442   548881181  5.993286e+07       66373.0  7.376688e+07\n",
       "34  2015-11   687344   216663481  2.194683e+07       24990.0  2.525733e+07\n",
       "35  2015-12   599882   191733079  1.825844e+07       21484.0  2.054725e+07"
      ]
     },
     "execution_count": 362,
     "metadata": {},
     "output_type": "execute_result"
    }
   ],
   "source": [
    "groupby_month=train_month1.groupby(\"Month\").sum(\"Sales_Amt\")\n",
    "groupby_month\n",
    "groupby_month.reset_index(inplace=True)\n",
    "groupby_month.dtypes\n",
    "groupby_month"
   ]
  },
  {
   "cell_type": "code",
   "execution_count": 326,
   "metadata": {},
   "outputs": [
    {
     "data": {
      "text/plain": [
       "(363, 5100, 214200)"
      ]
     },
     "execution_count": 326,
     "metadata": {},
     "output_type": "execute_result"
    }
   ],
   "source": [
    "len(list(set(test.item_id) - set(test.item_id).intersection(set(train.item_id)))), len(list(set(test.item_id))), len(test)"
   ]
  },
  {
   "cell_type": "code",
   "execution_count": 354,
   "metadata": {},
   "outputs": [
    {
     "data": {
      "text/html": [
       "<div>\n",
       "<style scoped>\n",
       "    .dataframe tbody tr th:only-of-type {\n",
       "        vertical-align: middle;\n",
       "    }\n",
       "\n",
       "    .dataframe tbody tr th {\n",
       "        vertical-align: top;\n",
       "    }\n",
       "\n",
       "    .dataframe thead th {\n",
       "        text-align: right;\n",
       "    }\n",
       "</style>\n",
       "<table border=\"1\" class=\"dataframe\">\n",
       "  <thead>\n",
       "    <tr style=\"text-align: right;\">\n",
       "      <th></th>\n",
       "      <th>0</th>\n",
       "    </tr>\n",
       "  </thead>\n",
       "  <tbody>\n",
       "    <tr>\n",
       "      <th>0</th>\n",
       "      <td>1561.653253</td>\n",
       "    </tr>\n",
       "    <tr>\n",
       "      <th>1</th>\n",
       "      <td>1545.731968</td>\n",
       "    </tr>\n",
       "    <tr>\n",
       "      <th>2</th>\n",
       "      <td>1550.626497</td>\n",
       "    </tr>\n",
       "    <tr>\n",
       "      <th>3</th>\n",
       "      <td>1550.682756</td>\n",
       "    </tr>\n",
       "    <tr>\n",
       "      <th>4</th>\n",
       "      <td>1548.657434</td>\n",
       "    </tr>\n",
       "  </tbody>\n",
       "</table>\n",
       "</div>"
      ],
      "text/plain": [
       "             0\n",
       "0  1561.653253\n",
       "1  1545.731968\n",
       "2  1550.626497\n",
       "3  1550.682756\n",
       "4  1548.657434"
      ]
     },
     "execution_count": 354,
     "metadata": {},
     "output_type": "execute_result"
    }
   ],
   "source": [
    "predictions1.head()\n",
    "#predictions1 is the predictions we made earlier and found the predicted sales amt according "
   ]
  },
  {
   "cell_type": "code",
   "execution_count": 355,
   "metadata": {},
   "outputs": [
    {
     "data": {
      "text/plain": [
       "(214200, 3)"
      ]
     },
     "execution_count": 355,
     "metadata": {},
     "output_type": "execute_result"
    }
   ],
   "source": [
    "test.shape"
   ]
  },
  {
   "cell_type": "code",
   "execution_count": 356,
   "metadata": {},
   "outputs": [
    {
     "data": {
      "text/plain": [
       "214200"
      ]
     },
     "execution_count": 356,
     "metadata": {},
     "output_type": "execute_result"
    }
   ],
   "source": [
    "len(predictions1)"
   ]
  },
  {
   "cell_type": "code",
   "execution_count": 363,
   "metadata": {},
   "outputs": [],
   "source": [
    "test_SalesAmt=pd.concat([test,predictions1],1)"
   ]
  },
  {
   "cell_type": "code",
   "execution_count": 364,
   "metadata": {},
   "outputs": [
    {
     "data": {
      "text/html": [
       "<div>\n",
       "<style scoped>\n",
       "    .dataframe tbody tr th:only-of-type {\n",
       "        vertical-align: middle;\n",
       "    }\n",
       "\n",
       "    .dataframe tbody tr th {\n",
       "        vertical-align: top;\n",
       "    }\n",
       "\n",
       "    .dataframe thead th {\n",
       "        text-align: right;\n",
       "    }\n",
       "</style>\n",
       "<table border=\"1\" class=\"dataframe\">\n",
       "  <thead>\n",
       "    <tr style=\"text-align: right;\">\n",
       "      <th></th>\n",
       "      <th>ID</th>\n",
       "      <th>shop_id</th>\n",
       "      <th>item_id</th>\n",
       "      <th>0</th>\n",
       "    </tr>\n",
       "  </thead>\n",
       "  <tbody>\n",
       "    <tr>\n",
       "      <th>0</th>\n",
       "      <td>0</td>\n",
       "      <td>5</td>\n",
       "      <td>5037</td>\n",
       "      <td>1561.653253</td>\n",
       "    </tr>\n",
       "    <tr>\n",
       "      <th>1</th>\n",
       "      <td>1</td>\n",
       "      <td>5</td>\n",
       "      <td>5320</td>\n",
       "      <td>1545.731968</td>\n",
       "    </tr>\n",
       "    <tr>\n",
       "      <th>2</th>\n",
       "      <td>2</td>\n",
       "      <td>5</td>\n",
       "      <td>5233</td>\n",
       "      <td>1550.626497</td>\n",
       "    </tr>\n",
       "    <tr>\n",
       "      <th>3</th>\n",
       "      <td>3</td>\n",
       "      <td>5</td>\n",
       "      <td>5232</td>\n",
       "      <td>1550.682756</td>\n",
       "    </tr>\n",
       "    <tr>\n",
       "      <th>4</th>\n",
       "      <td>4</td>\n",
       "      <td>5</td>\n",
       "      <td>5268</td>\n",
       "      <td>1548.657434</td>\n",
       "    </tr>\n",
       "    <tr>\n",
       "      <th>...</th>\n",
       "      <td>...</td>\n",
       "      <td>...</td>\n",
       "      <td>...</td>\n",
       "      <td>...</td>\n",
       "    </tr>\n",
       "    <tr>\n",
       "      <th>214195</th>\n",
       "      <td>214195</td>\n",
       "      <td>45</td>\n",
       "      <td>18454</td>\n",
       "      <td>644.534544</td>\n",
       "    </tr>\n",
       "    <tr>\n",
       "      <th>214196</th>\n",
       "      <td>214196</td>\n",
       "      <td>45</td>\n",
       "      <td>16188</td>\n",
       "      <td>772.017336</td>\n",
       "    </tr>\n",
       "    <tr>\n",
       "      <th>214197</th>\n",
       "      <td>214197</td>\n",
       "      <td>45</td>\n",
       "      <td>15757</td>\n",
       "      <td>796.264946</td>\n",
       "    </tr>\n",
       "    <tr>\n",
       "      <th>214198</th>\n",
       "      <td>214198</td>\n",
       "      <td>45</td>\n",
       "      <td>19648</td>\n",
       "      <td>577.361352</td>\n",
       "    </tr>\n",
       "    <tr>\n",
       "      <th>214199</th>\n",
       "      <td>214199</td>\n",
       "      <td>45</td>\n",
       "      <td>969</td>\n",
       "      <td>1628.222372</td>\n",
       "    </tr>\n",
       "  </tbody>\n",
       "</table>\n",
       "<p>214200 rows × 4 columns</p>\n",
       "</div>"
      ],
      "text/plain": [
       "            ID  shop_id  item_id            0\n",
       "0            0        5     5037  1561.653253\n",
       "1            1        5     5320  1545.731968\n",
       "2            2        5     5233  1550.626497\n",
       "3            3        5     5232  1550.682756\n",
       "4            4        5     5268  1548.657434\n",
       "...        ...      ...      ...          ...\n",
       "214195  214195       45    18454   644.534544\n",
       "214196  214196       45    16188   772.017336\n",
       "214197  214197       45    15757   796.264946\n",
       "214198  214198       45    19648   577.361352\n",
       "214199  214199       45      969  1628.222372\n",
       "\n",
       "[214200 rows x 4 columns]"
      ]
     },
     "execution_count": 364,
     "metadata": {},
     "output_type": "execute_result"
    }
   ],
   "source": [
    "test_with_price_SalesAmt"
   ]
  },
  {
   "cell_type": "code",
   "execution_count": 367,
   "metadata": {},
   "outputs": [
    {
     "data": {
      "text/plain": [
       "<bound method NDFrame.head of                   0\n",
       "0       1561.653253\n",
       "1       1545.731968\n",
       "2       1550.626497\n",
       "3       1550.682756\n",
       "4       1548.657434\n",
       "...             ...\n",
       "214195   644.534544\n",
       "214196   772.017336\n",
       "214197   796.264946\n",
       "214198   577.361352\n",
       "214199  1628.222372\n",
       "\n",
       "[214200 rows x 1 columns]>"
      ]
     },
     "execution_count": 367,
     "metadata": {},
     "output_type": "execute_result"
    }
   ],
   "source": [
    "predictions1.head"
   ]
  },
  {
   "cell_type": "code",
   "execution_count": 368,
   "metadata": {},
   "outputs": [],
   "source": [
    "predictions1.columns=[\"item_cnt_month\"]"
   ]
  },
  {
   "cell_type": "code",
   "execution_count": 373,
   "metadata": {},
   "outputs": [],
   "source": [
    "predictions1[\"ID\"]=range(0,214200)"
   ]
  },
  {
   "cell_type": "code",
   "execution_count": 374,
   "metadata": {},
   "outputs": [
    {
     "data": {
      "text/html": [
       "<div>\n",
       "<style scoped>\n",
       "    .dataframe tbody tr th:only-of-type {\n",
       "        vertical-align: middle;\n",
       "    }\n",
       "\n",
       "    .dataframe tbody tr th {\n",
       "        vertical-align: top;\n",
       "    }\n",
       "\n",
       "    .dataframe thead th {\n",
       "        text-align: right;\n",
       "    }\n",
       "</style>\n",
       "<table border=\"1\" class=\"dataframe\">\n",
       "  <thead>\n",
       "    <tr style=\"text-align: right;\">\n",
       "      <th></th>\n",
       "      <th>item_cnt_month</th>\n",
       "      <th>ID</th>\n",
       "    </tr>\n",
       "  </thead>\n",
       "  <tbody>\n",
       "    <tr>\n",
       "      <th>0</th>\n",
       "      <td>1561.653253</td>\n",
       "      <td>0</td>\n",
       "    </tr>\n",
       "    <tr>\n",
       "      <th>1</th>\n",
       "      <td>1545.731968</td>\n",
       "      <td>1</td>\n",
       "    </tr>\n",
       "    <tr>\n",
       "      <th>2</th>\n",
       "      <td>1550.626497</td>\n",
       "      <td>2</td>\n",
       "    </tr>\n",
       "    <tr>\n",
       "      <th>3</th>\n",
       "      <td>1550.682756</td>\n",
       "      <td>3</td>\n",
       "    </tr>\n",
       "    <tr>\n",
       "      <th>4</th>\n",
       "      <td>1548.657434</td>\n",
       "      <td>4</td>\n",
       "    </tr>\n",
       "  </tbody>\n",
       "</table>\n",
       "</div>"
      ],
      "text/plain": [
       "   item_cnt_month  ID\n",
       "0     1561.653253   0\n",
       "1     1545.731968   1\n",
       "2     1550.626497   2\n",
       "3     1550.682756   3\n",
       "4     1548.657434   4"
      ]
     },
     "execution_count": 374,
     "metadata": {},
     "output_type": "execute_result"
    }
   ],
   "source": [
    "predictions1.head()"
   ]
  },
  {
   "cell_type": "code",
   "execution_count": 376,
   "metadata": {},
   "outputs": [],
   "source": [
    "predict=pd.DataFrame({\"ID\":predictions1[\"ID\"],\"item_cnt_month\":predictions1[\"item_cnt_month\"]})"
   ]
  },
  {
   "cell_type": "code",
   "execution_count": 377,
   "metadata": {},
   "outputs": [],
   "source": [
    "predict.to_csv(\"PredictFutureSalesAttempt2.csv\")"
   ]
  },
  {
   "cell_type": "code",
   "execution_count": 378,
   "metadata": {},
   "outputs": [
    {
     "data": {
      "text/html": [
       "<div>\n",
       "<style scoped>\n",
       "    .dataframe tbody tr th:only-of-type {\n",
       "        vertical-align: middle;\n",
       "    }\n",
       "\n",
       "    .dataframe tbody tr th {\n",
       "        vertical-align: top;\n",
       "    }\n",
       "\n",
       "    .dataframe thead th {\n",
       "        text-align: right;\n",
       "    }\n",
       "</style>\n",
       "<table border=\"1\" class=\"dataframe\">\n",
       "  <thead>\n",
       "    <tr style=\"text-align: right;\">\n",
       "      <th></th>\n",
       "      <th>ID</th>\n",
       "      <th>item_cnt_month</th>\n",
       "    </tr>\n",
       "  </thead>\n",
       "  <tbody>\n",
       "    <tr>\n",
       "      <th>0</th>\n",
       "      <td>0</td>\n",
       "      <td>1561.653253</td>\n",
       "    </tr>\n",
       "    <tr>\n",
       "      <th>1</th>\n",
       "      <td>1</td>\n",
       "      <td>1545.731968</td>\n",
       "    </tr>\n",
       "    <tr>\n",
       "      <th>2</th>\n",
       "      <td>2</td>\n",
       "      <td>1550.626497</td>\n",
       "    </tr>\n",
       "    <tr>\n",
       "      <th>3</th>\n",
       "      <td>3</td>\n",
       "      <td>1550.682756</td>\n",
       "    </tr>\n",
       "    <tr>\n",
       "      <th>4</th>\n",
       "      <td>4</td>\n",
       "      <td>1548.657434</td>\n",
       "    </tr>\n",
       "  </tbody>\n",
       "</table>\n",
       "</div>"
      ],
      "text/plain": [
       "   ID  item_cnt_month\n",
       "0   0     1561.653253\n",
       "1   1     1545.731968\n",
       "2   2     1550.626497\n",
       "3   3     1550.682756\n",
       "4   4     1548.657434"
      ]
     },
     "execution_count": 378,
     "metadata": {},
     "output_type": "execute_result"
    }
   ],
   "source": [
    "# Deleted index column in excel and saved with same name and submitted it. "
   ]
  },
  {
   "cell_type": "code",
   "execution_count": null,
   "metadata": {},
   "outputs": [],
   "source": []
  }
 ],
 "metadata": {
  "kernelspec": {
   "display_name": "Python 3",
   "language": "python",
   "name": "python3"
  },
  "language_info": {
   "codemirror_mode": {
    "name": "ipython",
    "version": 3
   },
   "file_extension": ".py",
   "mimetype": "text/x-python",
   "name": "python",
   "nbconvert_exporter": "python",
   "pygments_lexer": "ipython3",
   "version": "3.8.5"
  }
 },
 "nbformat": 4,
 "nbformat_minor": 4
}
